{
 "cells": [
  {
   "cell_type": "code",
   "execution_count": 2,
   "id": "cfe46933",
   "metadata": {},
   "outputs": [
    {
     "name": "stdout",
     "output_type": "stream",
     "text": [
      "<div class=\"tabcontent\" id=\"tech_science\">\n",
      " <div class=\"topnews\">\n",
      "  <img alt=\"tech science deatils\" src=\"images/templatemo_image_08.jpg\"/>\n",
      "  <h2>\n",
      "   Part Time Job\n",
      "  </h2>\n",
      "  <p>\n",
      "   We are looking for interested students to Earn while Learn plans. Computer or Laptop is a must..\n",
      "   <a href=\"https://cometsoftwares.blogspot.com/\" target=\"_blank\">\n",
      "    Details\n",
      "   </a>\n",
      "  </p>\n",
      " </div>\n",
      " <div class=\"newslist\">\n",
      "  <ul>\n",
      "   <li>\n",
      "    Strong Basics of Computer\n",
      "   </li>\n",
      "   <li>\n",
      "    Home Tutions\n",
      "   </li>\n",
      "   <li>\n",
      "    Web Site Creation &amp; Hosting\n",
      "   </li>\n",
      "   <li>\n",
      "    Communication skill training\n",
      "   </li>\n",
      "   <li>\n",
      "    Data support for our web sites\n",
      "   </li>\n",
      "   <li>\n",
      "    Hardware &amp; Networking support\n",
      "   </li>\n",
      "   <li>\n",
      "    Domain Leads and Web Programmers\n",
      "   </li>\n",
      "  </ul>\n",
      "  Details\n",
      " </div>\n",
      "</div>\n",
      "\n"
     ]
    }
   ],
   "source": [
    "import requests\n",
    "from bs4 import BeautifulSoup\n",
    "URl=\"https://www.cometsoftwares.com\"\n",
    "page=requests.get(URl)\n",
    "soup=BeautifulSoup(page.content,\"html.parser\")\n",
    "results=soup.find(id=\"tech_science\")\n",
    "print(results.prettify())\n"
   ]
  },
  {
   "cell_type": "code",
   "execution_count": null,
   "id": "3f292bc9",
   "metadata": {},
   "outputs": [],
   "source": []
  },
  {
   "cell_type": "code",
   "execution_count": null,
   "id": "c3996c05",
   "metadata": {},
   "outputs": [],
   "source": []
  }
 ],
 "metadata": {
  "kernelspec": {
   "display_name": "Python 3 (ipykernel)",
   "language": "python",
   "name": "python3"
  },
  "language_info": {
   "codemirror_mode": {
    "name": "ipython",
    "version": 3
   },
   "file_extension": ".py",
   "mimetype": "text/x-python",
   "name": "python",
   "nbconvert_exporter": "python",
   "pygments_lexer": "ipython3",
   "version": "3.11.5"
  }
 },
 "nbformat": 4,
 "nbformat_minor": 5
}
